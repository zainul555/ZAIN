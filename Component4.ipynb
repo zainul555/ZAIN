{
 "cells": [
  {
   "cell_type": "code",
   "execution_count": 80,
   "metadata": {},
   "outputs": [],
   "source": [
    "import os\n",
    "import pandas as pd\n",
    "import numpy as np\n",
    "from matplotlib import pyplot as plt\n",
    "import seaborn as sns\n",
    "os.chdir('C:\\\\Users\\\\zain\\\\OFSTED Data for Assignment')\n",
    "df = pd.read_excel('Combined OFSTED data.xlsx')\n"
   ]
  },
  {
   "cell_type": "code",
   "execution_count": 81,
   "metadata": {},
   "outputs": [],
   "source": [
    "#Question 1\n",
    "df = df[df.Rating != 'Unknown']\n",
    "df['Rating'] = df['Rating'].replace(['Inadequate','Requires Improvement','Satisfactory'],'Not Good')\n"
   ]
  },
  {
   "cell_type": "code",
   "execution_count": 82,
   "metadata": {},
   "outputs": [
    {
     "data": {
      "text/plain": [
       "Good           59.302072\n",
       "Not Good       22.508179\n",
       "Outstanding    18.189749\n",
       "Name: Rating, dtype: float64"
      ]
     },
     "execution_count": 82,
     "metadata": {},
     "output_type": "execute_result"
    }
   ],
   "source": [
    "df.Rating.value_counts()/4585*100"
   ]
  },
  {
   "cell_type": "code",
   "execution_count": 83,
   "metadata": {},
   "outputs": [
    {
     "data": {
      "text/plain": [
       "0    Good\n",
       "dtype: object"
      ]
     },
     "execution_count": 83,
     "metadata": {},
     "output_type": "execute_result"
    }
   ],
   "source": [
    "#Question 2 \n",
    "#baseline accuracy\n",
    "# mode of rating column\n",
    "df.Rating.mode()\n",
    "#We choose mode value for baseline accuracy.In our case the mode is 'Good' and it occurs 59.30% in the dataset.\n",
    "#so we can say that our baseline accuracy is 59.30%"
   ]
  },
  {
   "cell_type": "code",
   "execution_count": 84,
   "metadata": {},
   "outputs": [],
   "source": [
    "df = df.dropna()\n",
    "#cols =[ 'PPERSABS10','P8PUP', 'ATT8SCR', 'P8MEA', 'P8CILOW', 'P8CIUPP', 'EBACCAPS',       'PTL2BASICS_94', 'PTL2BASICS_95', 'PTEBACC_E_PTQ_EE', 'PTEBACC_94',       'PTEBACC_95', 'PT5EM_94', 'P8_BANDING', 'OVERALL_DESTPER',       'NOT_SUSTAINEDPER', 'UNKNOWNPER', 'OVERALL_DESTPER_DIS',       'NOT_SUSTAINEDPER_DIS', 'UNKNOWNPER_DIS', 'Rating']\n",
    "#df[cols] = df[cols].apply(pd.to_numeric, errors='coerce')\n",
    "\n"
   ]
  },
  {
   "cell_type": "code",
   "execution_count": 85,
   "metadata": {},
   "outputs": [],
   "source": [
    "df = df.replace(to_replace =\"SUPP\",value =\"0\")\n",
    "df = df.replace(to_replace =\"SP\",value =\"0.5\")\n",
    "df = df.replace(to_replace =\"NE\",value =\"0\")\n",
    "df = df.replace(to_replace =\"LOWCOV\",value =\"0\")\n",
    "#df = df.fillna(0)\n"
   ]
  },
  {
   "cell_type": "code",
   "execution_count": 86,
   "metadata": {},
   "outputs": [
    {
     "data": {
      "text/html": [
       "<div>\n",
       "<style scoped>\n",
       "    .dataframe tbody tr th:only-of-type {\n",
       "        vertical-align: middle;\n",
       "    }\n",
       "\n",
       "    .dataframe tbody tr th {\n",
       "        vertical-align: top;\n",
       "    }\n",
       "\n",
       "    .dataframe thead th {\n",
       "        text-align: right;\n",
       "    }\n",
       "</style>\n",
       "<table border=\"1\" class=\"dataframe\">\n",
       "  <thead>\n",
       "    <tr style=\"text-align: right;\">\n",
       "      <th></th>\n",
       "      <th>PNORG</th>\n",
       "      <th>PNORB</th>\n",
       "      <th>PSENELSE</th>\n",
       "      <th>PSENELK</th>\n",
       "      <th>PNUMEAL</th>\n",
       "      <th>PNUMENGFL</th>\n",
       "      <th>PNUMUNCFL</th>\n",
       "      <th>PNUMFSMEVER</th>\n",
       "      <th>PERCTOT</th>\n",
       "      <th>PPERSABS10</th>\n",
       "      <th>...</th>\n",
       "      <th>PTEBACC_94</th>\n",
       "      <th>PTEBACC_95</th>\n",
       "      <th>PT5EM_94</th>\n",
       "      <th>P8_BANDING</th>\n",
       "      <th>OVERALL_DESTPER</th>\n",
       "      <th>NOT_SUSTAINEDPER</th>\n",
       "      <th>UNKNOWNPER</th>\n",
       "      <th>OVERALL_DESTPER_DIS</th>\n",
       "      <th>NOT_SUSTAINEDPER_DIS</th>\n",
       "      <th>UNKNOWNPER_DIS</th>\n",
       "    </tr>\n",
       "  </thead>\n",
       "  <tbody>\n",
       "    <tr>\n",
       "      <th>3</th>\n",
       "      <td>41.4</td>\n",
       "      <td>58.6</td>\n",
       "      <td>3.2</td>\n",
       "      <td>11.8</td>\n",
       "      <td>73.1</td>\n",
       "      <td>26.8</td>\n",
       "      <td>0.1</td>\n",
       "      <td>64.5</td>\n",
       "      <td>6.9</td>\n",
       "      <td>18.8</td>\n",
       "      <td>...</td>\n",
       "      <td>0.191</td>\n",
       "      <td>0.141</td>\n",
       "      <td>0.533</td>\n",
       "      <td>3</td>\n",
       "      <td>0.9</td>\n",
       "      <td>0.09</td>\n",
       "      <td>0.01</td>\n",
       "      <td>0.89</td>\n",
       "      <td>0.11</td>\n",
       "      <td>0.01</td>\n",
       "    </tr>\n",
       "    <tr>\n",
       "      <th>4</th>\n",
       "      <td>96.0</td>\n",
       "      <td>4.0</td>\n",
       "      <td>1.3</td>\n",
       "      <td>10.2</td>\n",
       "      <td>38.1</td>\n",
       "      <td>60.9</td>\n",
       "      <td>0.9</td>\n",
       "      <td>49.6</td>\n",
       "      <td>5.3</td>\n",
       "      <td>12.5</td>\n",
       "      <td>...</td>\n",
       "      <td>0.417</td>\n",
       "      <td>0.326</td>\n",
       "      <td>0.749</td>\n",
       "      <td>1</td>\n",
       "      <td>0.94</td>\n",
       "      <td>0.04</td>\n",
       "      <td>0.02</td>\n",
       "      <td>0.95</td>\n",
       "      <td>0.04</td>\n",
       "      <td>0.01</td>\n",
       "    </tr>\n",
       "    <tr>\n",
       "      <th>5</th>\n",
       "      <td>45.0</td>\n",
       "      <td>55.0</td>\n",
       "      <td>3.6</td>\n",
       "      <td>11.1</td>\n",
       "      <td>82.6</td>\n",
       "      <td>17.4</td>\n",
       "      <td>0.0</td>\n",
       "      <td>69.0</td>\n",
       "      <td>6.7</td>\n",
       "      <td>19.2</td>\n",
       "      <td>...</td>\n",
       "      <td>0.201</td>\n",
       "      <td>0.071</td>\n",
       "      <td>0.526</td>\n",
       "      <td>3</td>\n",
       "      <td>0.86</td>\n",
       "      <td>0.08</td>\n",
       "      <td>0.05</td>\n",
       "      <td>0.85</td>\n",
       "      <td>0.09</td>\n",
       "      <td>0.06</td>\n",
       "    </tr>\n",
       "    <tr>\n",
       "      <th>6</th>\n",
       "      <td>47.5</td>\n",
       "      <td>52.5</td>\n",
       "      <td>2.4</td>\n",
       "      <td>6.9</td>\n",
       "      <td>55.8</td>\n",
       "      <td>44.2</td>\n",
       "      <td>0.0</td>\n",
       "      <td>54.2</td>\n",
       "      <td>5.4</td>\n",
       "      <td>14</td>\n",
       "      <td>...</td>\n",
       "      <td>0.240</td>\n",
       "      <td>0.120</td>\n",
       "      <td>0.570</td>\n",
       "      <td>3</td>\n",
       "      <td>0.91</td>\n",
       "      <td>0.08</td>\n",
       "      <td>0.01</td>\n",
       "      <td>0.87</td>\n",
       "      <td>0.13</td>\n",
       "      <td>0</td>\n",
       "    </tr>\n",
       "    <tr>\n",
       "      <th>7</th>\n",
       "      <td>33.7</td>\n",
       "      <td>66.3</td>\n",
       "      <td>6.2</td>\n",
       "      <td>13.4</td>\n",
       "      <td>28.2</td>\n",
       "      <td>70.3</td>\n",
       "      <td>1.5</td>\n",
       "      <td>47.1</td>\n",
       "      <td>6.3</td>\n",
       "      <td>18.5</td>\n",
       "      <td>...</td>\n",
       "      <td>0.368</td>\n",
       "      <td>0.265</td>\n",
       "      <td>0.625</td>\n",
       "      <td>3</td>\n",
       "      <td>0.95</td>\n",
       "      <td>0.04</td>\n",
       "      <td>0.01</td>\n",
       "      <td>0.9</td>\n",
       "      <td>0.07</td>\n",
       "      <td>0.03</td>\n",
       "    </tr>\n",
       "    <tr>\n",
       "      <th>...</th>\n",
       "      <td>...</td>\n",
       "      <td>...</td>\n",
       "      <td>...</td>\n",
       "      <td>...</td>\n",
       "      <td>...</td>\n",
       "      <td>...</td>\n",
       "      <td>...</td>\n",
       "      <td>...</td>\n",
       "      <td>...</td>\n",
       "      <td>...</td>\n",
       "      <td>...</td>\n",
       "      <td>...</td>\n",
       "      <td>...</td>\n",
       "      <td>...</td>\n",
       "      <td>...</td>\n",
       "      <td>...</td>\n",
       "      <td>...</td>\n",
       "      <td>...</td>\n",
       "      <td>...</td>\n",
       "      <td>...</td>\n",
       "      <td>...</td>\n",
       "    </tr>\n",
       "    <tr>\n",
       "      <th>5652</th>\n",
       "      <td>45.7</td>\n",
       "      <td>54.3</td>\n",
       "      <td>3.4</td>\n",
       "      <td>14.5</td>\n",
       "      <td>47.2</td>\n",
       "      <td>45.4</td>\n",
       "      <td>7.5</td>\n",
       "      <td>55.7</td>\n",
       "      <td>7.6</td>\n",
       "      <td>26.4</td>\n",
       "      <td>...</td>\n",
       "      <td>0.035</td>\n",
       "      <td>0.009</td>\n",
       "      <td>0.395</td>\n",
       "      <td>3</td>\n",
       "      <td>0.9</td>\n",
       "      <td>0.07</td>\n",
       "      <td>0.02</td>\n",
       "      <td>0.88</td>\n",
       "      <td>0.09</td>\n",
       "      <td>0.03</td>\n",
       "    </tr>\n",
       "    <tr>\n",
       "      <th>5660</th>\n",
       "      <td>54.7</td>\n",
       "      <td>45.3</td>\n",
       "      <td>1.0</td>\n",
       "      <td>13.7</td>\n",
       "      <td>1.1</td>\n",
       "      <td>98.6</td>\n",
       "      <td>0.4</td>\n",
       "      <td>27.6</td>\n",
       "      <td>4.8</td>\n",
       "      <td>10.1</td>\n",
       "      <td>...</td>\n",
       "      <td>0.138</td>\n",
       "      <td>0.090</td>\n",
       "      <td>0.517</td>\n",
       "      <td>4</td>\n",
       "      <td>0.92</td>\n",
       "      <td>0.07</td>\n",
       "      <td>0.01</td>\n",
       "      <td>0.82</td>\n",
       "      <td>0.16</td>\n",
       "      <td>0.02</td>\n",
       "    </tr>\n",
       "    <tr>\n",
       "      <th>5661</th>\n",
       "      <td>45.8</td>\n",
       "      <td>54.2</td>\n",
       "      <td>1.2</td>\n",
       "      <td>10.4</td>\n",
       "      <td>39.6</td>\n",
       "      <td>59.0</td>\n",
       "      <td>1.4</td>\n",
       "      <td>34.3</td>\n",
       "      <td>5.2</td>\n",
       "      <td>13.8</td>\n",
       "      <td>...</td>\n",
       "      <td>0.128</td>\n",
       "      <td>0.080</td>\n",
       "      <td>0.516</td>\n",
       "      <td>3</td>\n",
       "      <td>0.91</td>\n",
       "      <td>0.08</td>\n",
       "      <td>0.01</td>\n",
       "      <td>0.8</td>\n",
       "      <td>0.17</td>\n",
       "      <td>0.03</td>\n",
       "    </tr>\n",
       "    <tr>\n",
       "      <th>5743</th>\n",
       "      <td>52.2</td>\n",
       "      <td>47.8</td>\n",
       "      <td>3.7</td>\n",
       "      <td>19.7</td>\n",
       "      <td>2.2</td>\n",
       "      <td>97.8</td>\n",
       "      <td>0.0</td>\n",
       "      <td>54.5</td>\n",
       "      <td>10.1</td>\n",
       "      <td>27.5</td>\n",
       "      <td>...</td>\n",
       "      <td>0.115</td>\n",
       "      <td>0.067</td>\n",
       "      <td>0.356</td>\n",
       "      <td>5</td>\n",
       "      <td>0.84</td>\n",
       "      <td>0.15</td>\n",
       "      <td>0.01</td>\n",
       "      <td>0.81</td>\n",
       "      <td>0.19</td>\n",
       "      <td>0</td>\n",
       "    </tr>\n",
       "    <tr>\n",
       "      <th>5757</th>\n",
       "      <td>50.0</td>\n",
       "      <td>50.0</td>\n",
       "      <td>1.0</td>\n",
       "      <td>5.6</td>\n",
       "      <td>0.7</td>\n",
       "      <td>99.3</td>\n",
       "      <td>0.0</td>\n",
       "      <td>18.9</td>\n",
       "      <td>6.0</td>\n",
       "      <td>14.9</td>\n",
       "      <td>...</td>\n",
       "      <td>0.022</td>\n",
       "      <td>0.015</td>\n",
       "      <td>0.533</td>\n",
       "      <td>3</td>\n",
       "      <td>0.95</td>\n",
       "      <td>0.04</td>\n",
       "      <td>0.01</td>\n",
       "      <td>0.91</td>\n",
       "      <td>0.09</td>\n",
       "      <td>0</td>\n",
       "    </tr>\n",
       "  </tbody>\n",
       "</table>\n",
       "<p>2743 rows × 30 columns</p>\n",
       "</div>"
      ],
      "text/plain": [
       "      PNORG  PNORB  PSENELSE  PSENELK  PNUMEAL  PNUMENGFL  PNUMUNCFL  \\\n",
       "3      41.4   58.6       3.2     11.8     73.1       26.8        0.1   \n",
       "4      96.0    4.0       1.3     10.2     38.1       60.9        0.9   \n",
       "5      45.0   55.0       3.6     11.1     82.6       17.4        0.0   \n",
       "6      47.5   52.5       2.4      6.9     55.8       44.2        0.0   \n",
       "7      33.7   66.3       6.2     13.4     28.2       70.3        1.5   \n",
       "...     ...    ...       ...      ...      ...        ...        ...   \n",
       "5652   45.7   54.3       3.4     14.5     47.2       45.4        7.5   \n",
       "5660   54.7   45.3       1.0     13.7      1.1       98.6        0.4   \n",
       "5661   45.8   54.2       1.2     10.4     39.6       59.0        1.4   \n",
       "5743   52.2   47.8       3.7     19.7      2.2       97.8        0.0   \n",
       "5757   50.0   50.0       1.0      5.6      0.7       99.3        0.0   \n",
       "\n",
       "      PNUMFSMEVER  PERCTOT PPERSABS10  ...  PTEBACC_94  PTEBACC_95  PT5EM_94  \\\n",
       "3            64.5      6.9       18.8  ...       0.191       0.141     0.533   \n",
       "4            49.6      5.3       12.5  ...       0.417       0.326     0.749   \n",
       "5            69.0      6.7       19.2  ...       0.201       0.071     0.526   \n",
       "6            54.2      5.4         14  ...       0.240       0.120     0.570   \n",
       "7            47.1      6.3       18.5  ...       0.368       0.265     0.625   \n",
       "...           ...      ...        ...  ...         ...         ...       ...   \n",
       "5652         55.7      7.6       26.4  ...       0.035       0.009     0.395   \n",
       "5660         27.6      4.8       10.1  ...       0.138       0.090     0.517   \n",
       "5661         34.3      5.2       13.8  ...       0.128       0.080     0.516   \n",
       "5743         54.5     10.1       27.5  ...       0.115       0.067     0.356   \n",
       "5757         18.9      6.0       14.9  ...       0.022       0.015     0.533   \n",
       "\n",
       "      P8_BANDING  OVERALL_DESTPER  NOT_SUSTAINEDPER  UNKNOWNPER  \\\n",
       "3              3              0.9              0.09        0.01   \n",
       "4              1             0.94              0.04        0.02   \n",
       "5              3             0.86              0.08        0.05   \n",
       "6              3             0.91              0.08        0.01   \n",
       "7              3             0.95              0.04        0.01   \n",
       "...          ...              ...               ...         ...   \n",
       "5652           3              0.9              0.07        0.02   \n",
       "5660           4             0.92              0.07        0.01   \n",
       "5661           3             0.91              0.08        0.01   \n",
       "5743           5             0.84              0.15        0.01   \n",
       "5757           3             0.95              0.04        0.01   \n",
       "\n",
       "      OVERALL_DESTPER_DIS  NOT_SUSTAINEDPER_DIS  UNKNOWNPER_DIS  \n",
       "3                    0.89                  0.11            0.01  \n",
       "4                    0.95                  0.04            0.01  \n",
       "5                    0.85                  0.09            0.06  \n",
       "6                    0.87                  0.13               0  \n",
       "7                     0.9                  0.07            0.03  \n",
       "...                   ...                   ...             ...  \n",
       "5652                 0.88                  0.09            0.03  \n",
       "5660                 0.82                  0.16            0.02  \n",
       "5661                  0.8                  0.17            0.03  \n",
       "5743                 0.81                  0.19               0  \n",
       "5757                 0.91                  0.09               0  \n",
       "\n",
       "[2743 rows x 30 columns]"
      ]
     },
     "execution_count": 86,
     "metadata": {},
     "output_type": "execute_result"
    }
   ],
   "source": [
    "df1_y = df['Rating']\n",
    "df1_x = df.drop(columns=['Rating','URN','GENDER','RELCHAR','LA','PNUMFSM'])\n",
    "df1_x"
   ]
  },
  {
   "cell_type": "markdown",
   "metadata": {},
   "source": [
    "Running different machine learning models\n",
    "K-Nearest Neighbour\n"
   ]
  },
  {
   "cell_type": "code",
   "execution_count": 87,
   "metadata": {},
   "outputs": [
    {
     "name": "stdout",
     "output_type": "stream",
     "text": [
      "[[268  32  19]\n",
      " [ 86  36   2]\n",
      " [ 72   3  31]]\n",
      "              precision    recall  f1-score   support\n",
      "\n",
      "        Good       0.63      0.84      0.72       319\n",
      "    Not Good       0.51      0.29      0.37       124\n",
      " Outstanding       0.60      0.29      0.39       106\n",
      "\n",
      "    accuracy                           0.61       549\n",
      "   macro avg       0.58      0.47      0.49       549\n",
      "weighted avg       0.60      0.61      0.58       549\n",
      "\n"
     ]
    },
    {
     "data": {
      "text/plain": [
       "0.6102003642987249"
      ]
     },
     "execution_count": 87,
     "metadata": {},
     "output_type": "execute_result"
    }
   ],
   "source": [
    "from sklearn.model_selection import train_test_split\n",
    "X_train, X_test, y_train, y_test = train_test_split(df1_x, df1_y, test_size=0.20)\n",
    "\n",
    "#KNN\n",
    "from sklearn.neighbors import KNeighborsClassifier\n",
    "\n",
    "model = KNeighborsClassifier(n_neighbors=5)\n",
    "\n",
    "# Train the model using the training sets\n",
    "model.fit(X_train, y_train)\n",
    "y_pred = model.predict(X_test)\n",
    "\n",
    "from sklearn.metrics import classification_report, confusion_matrix\n",
    "print(confusion_matrix(y_test, y_pred))\n",
    "print(classification_report(y_test, y_pred))\n",
    "from sklearn.metrics import accuracy_score\n",
    "\n",
    "accuracy_score(y_test, y_pred)\n"
   ]
  },
  {
   "cell_type": "markdown",
   "metadata": {},
   "source": [
    "Naïve Bayes"
   ]
  },
  {
   "cell_type": "code",
   "execution_count": 88,
   "metadata": {},
   "outputs": [
    {
     "name": "stdout",
     "output_type": "stream",
     "text": [
      "[[164 118  37]\n",
      " [ 34  88   2]\n",
      " [ 43   0  63]]\n",
      "              precision    recall  f1-score   support\n",
      "\n",
      "        Good       0.68      0.51      0.59       319\n",
      "    Not Good       0.43      0.71      0.53       124\n",
      " Outstanding       0.62      0.59      0.61       106\n",
      "\n",
      "    accuracy                           0.57       549\n",
      "   macro avg       0.58      0.61      0.57       549\n",
      "weighted avg       0.61      0.57      0.58       549\n",
      "\n"
     ]
    },
    {
     "data": {
      "text/plain": [
       "0.5737704918032787"
      ]
     },
     "execution_count": 88,
     "metadata": {},
     "output_type": "execute_result"
    }
   ],
   "source": [
    "from sklearn.naive_bayes import GaussianNB\n",
    "model1 = GaussianNB()\n",
    "model1.fit(X_train, y_train)\n",
    "y_pred = model1.predict(X_test)\n",
    "\n",
    "from sklearn.metrics import classification_report, confusion_matrix\n",
    "print(confusion_matrix(y_test, y_pred))\n",
    "print(classification_report(y_test, y_pred))\n",
    "from sklearn.metrics import accuracy_score\n",
    "\n",
    "accuracy_score(y_test, y_pred)\n"
   ]
  },
  {
   "cell_type": "markdown",
   "metadata": {},
   "source": [
    "Logistic Regression "
   ]
  },
  {
   "cell_type": "code",
   "execution_count": 89,
   "metadata": {},
   "outputs": [
    {
     "name": "stdout",
     "output_type": "stream",
     "text": [
      "[[276  28  15]\n",
      " [ 80  44   0]\n",
      " [ 54   0  52]]\n",
      "              precision    recall  f1-score   support\n",
      "\n",
      "        Good       0.67      0.87      0.76       319\n",
      "    Not Good       0.61      0.35      0.45       124\n",
      " Outstanding       0.78      0.49      0.60       106\n",
      "\n",
      "    accuracy                           0.68       549\n",
      "   macro avg       0.69      0.57      0.60       549\n",
      "weighted avg       0.68      0.68      0.66       549\n",
      "\n"
     ]
    },
    {
     "name": "stderr",
     "output_type": "stream",
     "text": [
      "C:\\Users\\ngupta97\\Desktop\\Anaconda\\lib\\site-packages\\sklearn\\linear_model\\_logistic.py:762: ConvergenceWarning: lbfgs failed to converge (status=1):\n",
      "STOP: TOTAL NO. of ITERATIONS REACHED LIMIT.\n",
      "\n",
      "Increase the number of iterations (max_iter) or scale the data as shown in:\n",
      "    https://scikit-learn.org/stable/modules/preprocessing.html\n",
      "Please also refer to the documentation for alternative solver options:\n",
      "    https://scikit-learn.org/stable/modules/linear_model.html#logistic-regression\n",
      "  n_iter_i = _check_optimize_result(\n"
     ]
    },
    {
     "data": {
      "text/plain": [
       "0.6775956284153005"
      ]
     },
     "execution_count": 89,
     "metadata": {},
     "output_type": "execute_result"
    }
   ],
   "source": [
    "from sklearn.linear_model import LogisticRegression\n",
    "from sklearn import metrics\n",
    "logreg = LogisticRegression()\n",
    "logreg.fit(X_train, y_train)\n",
    "y_pred = logreg.predict(X_test)\n",
    "\n",
    "from sklearn.metrics import classification_report, confusion_matrix\n",
    "print(confusion_matrix(y_test, y_pred))\n",
    "print(classification_report(y_test, y_pred))\n",
    "from sklearn.metrics import accuracy_score\n",
    "\n",
    "cf_matrix = confusion_matrix(y_test, y_pred)\n",
    "accuracy_score(y_test, y_pred)\n"
   ]
  },
  {
   "cell_type": "markdown",
   "metadata": {},
   "source": [
    "#Question4 \n",
    "Creating the confusion matrix"
   ]
  },
  {
   "cell_type": "code",
   "execution_count": 90,
   "metadata": {},
   "outputs": [
    {
     "data": {
      "image/png": "[encoded data removed]",
      "text/plain": [
       "<Figure size 432x288 with 2 Axes>"
      ]
     },
     "metadata": {
      "needs_background": "light"
     },
     "output_type": "display_data"
    }
   ],
   "source": [
    "labels = ['Good', 'Not Good','Outstanding']\n",
    "\n",
    "fig = plt.figure()\n",
    "ax = fig.add_subplot(111)\n",
    "cax = ax.matshow(cf_matrix)\n",
    "plt.title('Confusion matrix of the classifier')\n",
    "fig.colorbar(cax)\n",
    "ax.set_xticklabels([''] + labels)\n",
    "ax.set_yticklabels([''] + labels)\n",
    "plt.xlabel('Predicted Rating')\n",
    "plt.ylabel('Actual Rating')\n",
    "plt.show()\n"
   ]
  },
  {
   "cell_type": "markdown",
   "metadata": {},
   "source": [
    "#Question 5\n",
    "We find that there are some features of P8 score having negative values\n",
    "We will treat those features by transforming using min max scaler\n"
   ]
  },
  {
   "cell_type": "code",
   "execution_count": 91,
   "metadata": {},
   "outputs": [],
   "source": [
    "from sklearn.preprocessing import MinMaxScaler\n",
    "from pandas import DataFrame\n",
    "scaler = MinMaxScaler()\n",
    "normData = pd.DataFrame(scaler.fit_transform(df1_x), index=df1_x.index, columns=df1_x.columns)\n",
    "df1_x = normData"
   ]
  },
  {
   "cell_type": "markdown",
   "metadata": {},
   "source": [
    "#Question 6\n",
    "-The first option is using get dummies and creating one hot encoding for each value that is present in the GENDER column\n",
    "- Another option is assigning values to each value present in GENDER column , eg 1- Mixed , 2 - Mixed , 3 - Boys\n",
    "\n",
    "#question 7 \n",
    "\n",
    "-we have merged all the religious values into one category\n",
    "\n",
    "#Question 8,9,10,11 have been covered\n"
   ]
  },
  {
   "cell_type": "code",
   "execution_count": 92,
   "metadata": {},
   "outputs": [],
   "source": [
    "df1_x = df1_x.merge(df[['GENDER','RELCHAR']], left_index=True, right_index=True)\n",
    "\n",
    "\n",
    "df1_x['RELCHAR'] = df1_x['RELCHAR'].replace(['Church of England','Roman Catholic','Christian','Muslim','Islam','Jewish','Anglican','Plymouth Brethren Christian Church','Methodist','Catholic','Church of England/Roman Catholic','Orthodox Jewish','Quaker','Roman Catholic/Church of England','Sikh','Anglican/Christian','Christian/Evangelical','Church of England/Christian','Church of England/Evangelical','Hindu','Anglican/Church of England','Anglican/Evangelical','Protestant/Evangelical','Charadi Jewish','Christian Science','Multi-faith','Christian/Methodist','United Reformed Church','Free Church','Roman Catholic/Anglican','Greek Orthodox','Seventh Day Adventist','Protestant','Sunni Deobandi','Church of England/Methodist','Christian/non-denominational'],'Not Religious')\n",
    "\n",
    "df1_x = pd.get_dummies(df1_x, columns=['GENDER','RELCHAR'])\n"
   ]
  },
  {
   "cell_type": "code",
   "execution_count": 93,
   "metadata": {},
   "outputs": [
    {
     "name": "stdout",
     "output_type": "stream",
     "text": [
      "[[289  18  17]\n",
      " [ 72  41   0]\n",
      " [ 65   0  47]]\n",
      "              precision    recall  f1-score   support\n",
      "\n",
      "        Good       0.68      0.89      0.77       324\n",
      "    Not Good       0.69      0.36      0.48       113\n",
      " Outstanding       0.73      0.42      0.53       112\n",
      "\n",
      "    accuracy                           0.69       549\n",
      "   macro avg       0.70      0.56      0.59       549\n",
      "weighted avg       0.69      0.69      0.66       549\n",
      "\n"
     ]
    },
    {
     "name": "stderr",
     "output_type": "stream",
     "text": [
      "C:\\Users\\ngupta97\\Desktop\\Anaconda\\lib\\site-packages\\sklearn\\linear_model\\_logistic.py:762: ConvergenceWarning: lbfgs failed to converge (status=1):\n",
      "STOP: TOTAL NO. of ITERATIONS REACHED LIMIT.\n",
      "\n",
      "Increase the number of iterations (max_iter) or scale the data as shown in:\n",
      "    https://scikit-learn.org/stable/modules/preprocessing.html\n",
      "Please also refer to the documentation for alternative solver options:\n",
      "    https://scikit-learn.org/stable/modules/linear_model.html#logistic-regression\n",
      "  n_iter_i = _check_optimize_result(\n"
     ]
    },
    {
     "data": {
      "text/plain": [
       "0.6867030965391621"
      ]
     },
     "execution_count": 93,
     "metadata": {},
     "output_type": "execute_result"
    }
   ],
   "source": [
    "#Running the model again with new one hot encoded features\n",
    "#Run 2\n",
    "\n",
    "from sklearn.model_selection import train_test_split\n",
    "X_train, X_test, y_train, y_test = train_test_split(df1_x, df1_y, test_size=0.20)\n",
    "from sklearn.linear_model import LogisticRegression\n",
    "from sklearn import metrics\n",
    "logreg1 = LogisticRegression()\n",
    "logreg1.fit(X_train, y_train)\n",
    "y_pred = logreg1.predict(X_test)\n",
    "\n",
    "from sklearn.metrics import classification_report, confusion_matrix\n",
    "print(confusion_matrix(y_test, y_pred))\n",
    "print(classification_report(y_test, y_pred))\n",
    "from sklearn.metrics import accuracy_score\n",
    "\n",
    "cf_matrix = confusion_matrix(y_test, y_pred)\n",
    "\n",
    "accuracy_score(y_test, y_pred)\n"
   ]
  },
  {
   "cell_type": "markdown",
   "metadata": {},
   "source": [
    "#question 13\n",
    "\n",
    "The main differences between the filter and wrapper methods for feature selection are:\n",
    "\n",
    "-Filter methods measure the relevance of features by their correlation with dependent variable while wrapper methods measure the usefulness of a subset of feature by actually training a model on it.\n",
    "-Filter methods are much faster compared to wrapper methods as they do not involve training the models. On the other hand, wrapper methods are computationally very expensive as well.\n",
    "-Filter methods use statistical methods for evaluation of a subset of features while wrapper methods use cross validation.\n",
    "-Filter methods might fail to find the best subset of features in many occasions but wrapper methods can always provide the best subset of features.\n",
    "-Using the subset of features from the wrapper methods make the model more prone to overfitting as compared to using subset of features from the filter methods.\n"
   ]
  },
  {
   "cell_type": "markdown",
   "metadata": {},
   "source": [
    "#Question 14\n",
    "\n",
    "Filter methods:\n",
    "-chi-square test\n",
    "-correlation coefficient\n",
    "-variance threshold\n",
    "\n",
    "\n",
    "Variance Thresholds\n",
    "\n",
    "Here, we simply compute the variance of each feature, and we select the subset of features based on a user-specified threshold. E.g., “keep all features that have a variance greater or equal to x” or “keep the the top k features with the largest variance.” We assume that features with a higher variance may contain more useful information, but note that we are not taking the relationship between feature variables or feature and target variables into account, which is one of the drawbacks of filter methods.\n",
    "\n",
    "\n",
    "Correlation Coefficient\n",
    "\n",
    "Features with high correlation are more linearly dependent and hence have almost the same effect on the dependent variable. So, when two features have high correlation, we can drop one of the two features.\n",
    "\n",
    "Chi-squared Score\n",
    "This is another statistical method that’s commonly used for testing relationships between categorical variables.\n",
    "Therefore, it’s suited for categorical variables and binary targets only, and the variables should be non-negative and typically boolean, frequencies, or counts.\n",
    "What it does is simply compare the observed distribution between various features in the dataset and the target variable.\n",
    "\n",
    "\n"
   ]
  },
  {
   "cell_type": "code",
   "execution_count": 94,
   "metadata": {},
   "outputs": [
    {
     "name": "stdout",
     "output_type": "stream",
     "text": [
      "Index(['PSENELSE', 'PSENELK', 'PNUMEAL', 'PNUMFSMEVER', 'PERCTOT',\n",
      "       'PPERSABS10', 'ATT8SCR', 'P8MEA', 'P8CILOW', 'P8CIUPP', 'EBACCAPS',\n",
      "       'PTL2BASICS_94', 'PTL2BASICS_95', 'PTEBACC_E_PTQ_EE', 'PTEBACC_94',\n",
      "       'PTEBACC_95', 'PT5EM_94', 'P8_BANDING', 'NOT_SUSTAINEDPER',\n",
      "       'NOT_SUSTAINEDPER_DIS', 'GENDER_Boys', 'GENDER_Girls', 'GENDER_Mixed',\n",
      "       'RELCHAR_Does not apply', 'RELCHAR_Not Religious'],\n",
      "      dtype='object')\n"
     ]
    }
   ],
   "source": [
    "from sklearn.feature_selection import chi2\n",
    "from sklearn.feature_selection import SelectKBest\n",
    "\n",
    "# change this to how much features you want to keep from the top ones.\n",
    "select_k = 25\n",
    "\n",
    "# apply the chi2 score on the data and target (target should be binary).  \n",
    "selection = SelectKBest(chi2, k=select_k).fit(X_train, y_train)\n",
    "\n",
    "# display the k selected features.\n",
    "features = X_train.columns[selection.get_support()]\n",
    "print(features)\n"
   ]
  },
  {
   "cell_type": "code",
   "execution_count": 95,
   "metadata": {},
   "outputs": [],
   "source": [
    "df_new = df1_x[features]"
   ]
  },
  {
   "cell_type": "code",
   "execution_count": 96,
   "metadata": {},
   "outputs": [
    {
     "name": "stdout",
     "output_type": "stream",
     "text": [
      "[[283  24  27]\n",
      " [101  37   0]\n",
      " [ 45   1  31]]\n",
      "              precision    recall  f1-score   support\n",
      "\n",
      "        Good       0.66      0.85      0.74       334\n",
      "    Not Good       0.60      0.27      0.37       138\n",
      " Outstanding       0.53      0.40      0.46        77\n",
      "\n",
      "    accuracy                           0.64       549\n",
      "   macro avg       0.60      0.51      0.52       549\n",
      "weighted avg       0.63      0.64      0.61       549\n",
      "\n"
     ]
    },
    {
     "name": "stderr",
     "output_type": "stream",
     "text": [
      "C:\\Users\\ngupta97\\Desktop\\Anaconda\\lib\\site-packages\\sklearn\\linear_model\\_logistic.py:762: ConvergenceWarning: lbfgs failed to converge (status=1):\n",
      "STOP: TOTAL NO. of ITERATIONS REACHED LIMIT.\n",
      "\n",
      "Increase the number of iterations (max_iter) or scale the data as shown in:\n",
      "    https://scikit-learn.org/stable/modules/preprocessing.html\n",
      "Please also refer to the documentation for alternative solver options:\n",
      "    https://scikit-learn.org/stable/modules/linear_model.html#logistic-regression\n",
      "  n_iter_i = _check_optimize_result(\n"
     ]
    },
    {
     "data": {
      "text/plain": [
       "0.639344262295082"
      ]
     },
     "execution_count": 96,
     "metadata": {},
     "output_type": "execute_result"
    }
   ],
   "source": [
    "\n",
    "from sklearn.model_selection import train_test_split\n",
    "X_train, X_test, y_train, y_test = train_test_split(df1_x, df1_y, test_size=0.20)\n",
    "from sklearn.linear_model import LogisticRegression\n",
    "from sklearn import metrics\n",
    "logreg1 = LogisticRegression()\n",
    "logreg1.fit(X_train, y_train)\n",
    "y_pred = logreg1.predict(X_test)\n",
    "\n",
    "from sklearn.metrics import classification_report, confusion_matrix\n",
    "print(confusion_matrix(y_test, y_pred))\n",
    "print(classification_report(y_test, y_pred))\n",
    "from sklearn.metrics import accuracy_score\n",
    "\n",
    "cf_matrix = confusion_matrix(y_test, y_pred)\n",
    "\n",
    "accuracy_score(y_test, y_pred)\n"
   ]
  },
  {
   "cell_type": "markdown",
   "metadata": {},
   "source": [
    "#Question 15 \n",
    "Wrapper method\n",
    "Recursive Feature Elimination (RFE)\n",
    "RFE is a wrapper-type feature selection algorithm. This means that a different machine learning algorithm is given and used in the core of the method, is wrapped by RFE, and used to help select features. This is in contrast to filter-based feature selections that score each feature and select those features with the largest (or smallest) score.\n",
    "\n"
   ]
  },
  {
   "cell_type": "code",
   "execution_count": 97,
   "metadata": {},
   "outputs": [
    {
     "name": "stderr",
     "output_type": "stream",
     "text": [
      "C:\\Users\\ngupta97\\Desktop\\Anaconda\\lib\\site-packages\\sklearn\\utils\\validation.py:68: FutureWarning: Pass n_features_to_select=25 as keyword args. From version 0.25 passing these as positional arguments will result in an error\n",
      "  warnings.warn(\"Pass {} as keyword args. From version 0.25 \"\n",
      "C:\\Users\\ngupta97\\Desktop\\Anaconda\\lib\\site-packages\\sklearn\\linear_model\\_logistic.py:762: ConvergenceWarning: lbfgs failed to converge (status=1):\n",
      "STOP: TOTAL NO. of ITERATIONS REACHED LIMIT.\n",
      "\n",
      "Increase the number of iterations (max_iter) or scale the data as shown in:\n",
      "    https://scikit-learn.org/stable/modules/preprocessing.html\n",
      "Please also refer to the documentation for alternative solver options:\n",
      "    https://scikit-learn.org/stable/modules/linear_model.html#logistic-regression\n",
      "  n_iter_i = _check_optimize_result(\n",
      "C:\\Users\\ngupta97\\Desktop\\Anaconda\\lib\\site-packages\\sklearn\\linear_model\\_logistic.py:762: ConvergenceWarning: lbfgs failed to converge (status=1):\n",
      "STOP: TOTAL NO. of ITERATIONS REACHED LIMIT.\n",
      "\n",
      "Increase the number of iterations (max_iter) or scale the data as shown in:\n",
      "    https://scikit-learn.org/stable/modules/preprocessing.html\n",
      "Please also refer to the documentation for alternative solver options:\n",
      "    https://scikit-learn.org/stable/modules/linear_model.html#logistic-regression\n",
      "  n_iter_i = _check_optimize_result(\n",
      "C:\\Users\\ngupta97\\Desktop\\Anaconda\\lib\\site-packages\\sklearn\\linear_model\\_logistic.py:762: ConvergenceWarning: lbfgs failed to converge (status=1):\n",
      "STOP: TOTAL NO. of ITERATIONS REACHED LIMIT.\n",
      "\n",
      "Increase the number of iterations (max_iter) or scale the data as shown in:\n",
      "    https://scikit-learn.org/stable/modules/preprocessing.html\n",
      "Please also refer to the documentation for alternative solver options:\n",
      "    https://scikit-learn.org/stable/modules/linear_model.html#logistic-regression\n",
      "  n_iter_i = _check_optimize_result(\n",
      "C:\\Users\\ngupta97\\Desktop\\Anaconda\\lib\\site-packages\\sklearn\\linear_model\\_logistic.py:762: ConvergenceWarning: lbfgs failed to converge (status=1):\n",
      "STOP: TOTAL NO. of ITERATIONS REACHED LIMIT.\n",
      "\n",
      "Increase the number of iterations (max_iter) or scale the data as shown in:\n",
      "    https://scikit-learn.org/stable/modules/preprocessing.html\n",
      "Please also refer to the documentation for alternative solver options:\n",
      "    https://scikit-learn.org/stable/modules/linear_model.html#logistic-regression\n",
      "  n_iter_i = _check_optimize_result(\n",
      "C:\\Users\\ngupta97\\Desktop\\Anaconda\\lib\\site-packages\\sklearn\\linear_model\\_logistic.py:762: ConvergenceWarning: lbfgs failed to converge (status=1):\n",
      "STOP: TOTAL NO. of ITERATIONS REACHED LIMIT.\n",
      "\n",
      "Increase the number of iterations (max_iter) or scale the data as shown in:\n",
      "    https://scikit-learn.org/stable/modules/preprocessing.html\n",
      "Please also refer to the documentation for alternative solver options:\n",
      "    https://scikit-learn.org/stable/modules/linear_model.html#logistic-regression\n",
      "  n_iter_i = _check_optimize_result(\n",
      "C:\\Users\\ngupta97\\Desktop\\Anaconda\\lib\\site-packages\\sklearn\\linear_model\\_logistic.py:762: ConvergenceWarning: lbfgs failed to converge (status=1):\n",
      "STOP: TOTAL NO. of ITERATIONS REACHED LIMIT.\n",
      "\n",
      "Increase the number of iterations (max_iter) or scale the data as shown in:\n",
      "    https://scikit-learn.org/stable/modules/preprocessing.html\n",
      "Please also refer to the documentation for alternative solver options:\n",
      "    https://scikit-learn.org/stable/modules/linear_model.html#logistic-regression\n",
      "  n_iter_i = _check_optimize_result(\n",
      "C:\\Users\\ngupta97\\Desktop\\Anaconda\\lib\\site-packages\\sklearn\\linear_model\\_logistic.py:762: ConvergenceWarning: lbfgs failed to converge (status=1):\n",
      "STOP: TOTAL NO. of ITERATIONS REACHED LIMIT.\n",
      "\n",
      "Increase the number of iterations (max_iter) or scale the data as shown in:\n",
      "    https://scikit-learn.org/stable/modules/preprocessing.html\n",
      "Please also refer to the documentation for alternative solver options:\n",
      "    https://scikit-learn.org/stable/modules/linear_model.html#logistic-regression\n",
      "  n_iter_i = _check_optimize_result(\n",
      "C:\\Users\\ngupta97\\Desktop\\Anaconda\\lib\\site-packages\\sklearn\\linear_model\\_logistic.py:762: ConvergenceWarning: lbfgs failed to converge (status=1):\n",
      "STOP: TOTAL NO. of ITERATIONS REACHED LIMIT.\n",
      "\n",
      "Increase the number of iterations (max_iter) or scale the data as shown in:\n",
      "    https://scikit-learn.org/stable/modules/preprocessing.html\n",
      "Please also refer to the documentation for alternative solver options:\n",
      "    https://scikit-learn.org/stable/modules/linear_model.html#logistic-regression\n",
      "  n_iter_i = _check_optimize_result(\n",
      "C:\\Users\\ngupta97\\Desktop\\Anaconda\\lib\\site-packages\\sklearn\\linear_model\\_logistic.py:762: ConvergenceWarning: lbfgs failed to converge (status=1):\n",
      "STOP: TOTAL NO. of ITERATIONS REACHED LIMIT.\n",
      "\n",
      "Increase the number of iterations (max_iter) or scale the data as shown in:\n",
      "    https://scikit-learn.org/stable/modules/preprocessing.html\n",
      "Please also refer to the documentation for alternative solver options:\n",
      "    https://scikit-learn.org/stable/modules/linear_model.html#logistic-regression\n",
      "  n_iter_i = _check_optimize_result(\n",
      "C:\\Users\\ngupta97\\Desktop\\Anaconda\\lib\\site-packages\\sklearn\\linear_model\\_logistic.py:762: ConvergenceWarning: lbfgs failed to converge (status=1):\n",
      "STOP: TOTAL NO. of ITERATIONS REACHED LIMIT.\n",
      "\n",
      "Increase the number of iterations (max_iter) or scale the data as shown in:\n",
      "    https://scikit-learn.org/stable/modules/preprocessing.html\n",
      "Please also refer to the documentation for alternative solver options:\n",
      "    https://scikit-learn.org/stable/modules/linear_model.html#logistic-regression\n",
      "  n_iter_i = _check_optimize_result(\n",
      "C:\\Users\\ngupta97\\Desktop\\Anaconda\\lib\\site-packages\\sklearn\\linear_model\\_logistic.py:762: ConvergenceWarning: lbfgs failed to converge (status=1):\n",
      "STOP: TOTAL NO. of ITERATIONS REACHED LIMIT.\n",
      "\n",
      "Increase the number of iterations (max_iter) or scale the data as shown in:\n",
      "    https://scikit-learn.org/stable/modules/preprocessing.html\n",
      "Please also refer to the documentation for alternative solver options:\n",
      "    https://scikit-learn.org/stable/modules/linear_model.html#logistic-regression\n",
      "  n_iter_i = _check_optimize_result(\n"
     ]
    },
    {
     "name": "stdout",
     "output_type": "stream",
     "text": [
      "[False  True  True False False  True  True  True  True  True  True  True\n",
      "  True  True  True  True  True  True  True False  True  True  True  True\n",
      "  True  True False False  True  True  True False False False False False]\n",
      "[ 6  1  1  2  3  1  1  1  1  1  1  1  1  1  1  1  1  1  1 10  1  1  1  1\n",
      "  1  1 12  4  1  1  1 11  5  7  9  8]\n"
     ]
    },
    {
     "name": "stderr",
     "output_type": "stream",
     "text": [
      "C:\\Users\\ngupta97\\Desktop\\Anaconda\\lib\\site-packages\\sklearn\\linear_model\\_logistic.py:762: ConvergenceWarning: lbfgs failed to converge (status=1):\n",
      "STOP: TOTAL NO. of ITERATIONS REACHED LIMIT.\n",
      "\n",
      "Increase the number of iterations (max_iter) or scale the data as shown in:\n",
      "    https://scikit-learn.org/stable/modules/preprocessing.html\n",
      "Please also refer to the documentation for alternative solver options:\n",
      "    https://scikit-learn.org/stable/modules/linear_model.html#logistic-regression\n",
      "  n_iter_i = _check_optimize_result(\n"
     ]
    }
   ],
   "source": [
    "from sklearn.feature_selection import RFE\n",
    "\n",
    "from sklearn.model_selection import train_test_split\n",
    "X_train, X_test, y_train, y_test = train_test_split(df1_x, df1_y, test_size=0.20)\n",
    "rfe = RFE(logreg1, 25)\n",
    "rfe = rfe.fit(X_train, y_train)\n",
    "# summarize the selection of the attributes\n",
    "print(rfe.support_)\n",
    "print(rfe.ranking_)\n",
    "y_pred = rfe.predict(X_test)\n",
    "\n"
   ]
  },
  {
   "cell_type": "code",
   "execution_count": 98,
   "metadata": {},
   "outputs": [
    {
     "name": "stdout",
     "output_type": "stream",
     "text": [
      "[[288  20  21]\n",
      " [ 80  45   2]\n",
      " [ 48   0  45]]\n",
      "              precision    recall  f1-score   support\n",
      "\n",
      "        Good       0.69      0.88      0.77       329\n",
      "    Not Good       0.69      0.35      0.47       127\n",
      " Outstanding       0.66      0.48      0.56        93\n",
      "\n",
      "    accuracy                           0.69       549\n",
      "   macro avg       0.68      0.57      0.60       549\n",
      "weighted avg       0.69      0.69      0.67       549\n",
      "\n"
     ]
    },
    {
     "data": {
      "text/plain": [
       "0.6885245901639344"
      ]
     },
     "execution_count": 98,
     "metadata": {},
     "output_type": "execute_result"
    }
   ],
   "source": [
    "from sklearn.metrics import classification_report, confusion_matrix\n",
    "print(confusion_matrix(y_test, y_pred))\n",
    "print(classification_report(y_test, y_pred))\n",
    "from sklearn.metrics import accuracy_score\n",
    "\n",
    "cf_matrix = confusion_matrix(y_test, y_pred)\n",
    "\n",
    "accuracy_score(y_test, y_pred)"
   ]
  },
  {
   "cell_type": "code",
   "execution_count": null,
   "metadata": {},
   "outputs": [],
   "source": []
  }
 ],
 "metadata": {
  "kernelspec": {
   "display_name": "Python 3",
   "language": "python",
   "name": "python3"
  },
  "language_info": {
   "codemirror_mode": {
    "name": "ipython",
    "version": 3
   },
   "file_extension": ".py",
   "mimetype": "text/x-python",
   "name": "python",
   "nbconvert_exporter": "python",
   "pygments_lexer": "ipython3",
   "version": "3.8.3"
  }
 },
 "nbformat": 4,
 "nbformat_minor": 4
}
